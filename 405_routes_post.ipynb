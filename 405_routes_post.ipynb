{
 "cells": [
  {
   "cell_type": "code",
   "execution_count": 1,
   "id": "326d1c9e",
   "metadata": {},
   "outputs": [
    {
     "name": "stdout",
     "output_type": "stream",
     "text": [
      " * Serving Flask app \"__main__\" (lazy loading)\n",
      " * Environment: production\n",
      "\u001b[31m   WARNING: This is a development server. Do not use it in a production deployment.\u001b[0m\n",
      "\u001b[2m   Use a production WSGI server instead.\u001b[0m\n",
      " * Debug mode: off\n"
     ]
    },
    {
     "name": "stderr",
     "output_type": "stream",
     "text": [
      " * Running on http://127.0.0.1:8082/ (Press CTRL+C to quit)\n"
     ]
    }
   ],
   "source": [
    "# import packages\n",
    "from flask import Flask\n",
    "from flask import render_template\n",
    "from flask import request\n",
    "from flask import redirect, url_for\n",
    "\n",
    "# create app\n",
    "myapp = Flask(__name__)\n",
    "\n",
    "@myapp.route('/dashboard')\n",
    "def dashboard():\n",
    "    \n",
    "\n",
    "\n",
    "\n",
    "# run app\n",
    "if __name__ == \"__main__\":\n",
    "    myapp.run(host=\"127.0.0.1\", port=8082, debug=False)"
   ]
  },
  {
   "cell_type": "code",
   "execution_count": null,
   "id": "323955a6",
   "metadata": {},
   "outputs": [],
   "source": []
  }
 ],
 "metadata": {
  "kernelspec": {
   "display_name": "Python 3 (ipykernel)",
   "language": "python",
   "name": "python3"
  },
  "language_info": {
   "codemirror_mode": {
    "name": "ipython",
    "version": 3
   },
   "file_extension": ".py",
   "mimetype": "text/x-python",
   "name": "python",
   "nbconvert_exporter": "python",
   "pygments_lexer": "ipython3",
   "version": "3.9.7"
  }
 },
 "nbformat": 4,
 "nbformat_minor": 5
}
