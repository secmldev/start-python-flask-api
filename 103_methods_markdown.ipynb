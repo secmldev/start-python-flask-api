{
 "cells": [
  {
   "cell_type": "code",
   "execution_count": 4,
   "id": "4a962950",
   "metadata": {},
   "outputs": [],
   "source": [
    "a = 2"
   ]
  },
  {
   "cell_type": "code",
   "execution_count": 5,
   "id": "4c51fe58",
   "metadata": {},
   "outputs": [
    {
     "data": {
      "text/plain": [
       "2"
      ]
     },
     "execution_count": 5,
     "metadata": {},
     "output_type": "execute_result"
    }
   ],
   "source": [
    "a"
   ]
  },
  {
   "cell_type": "code",
   "execution_count": 6,
   "id": "2f088116",
   "metadata": {},
   "outputs": [
    {
     "data": {
      "text/plain": [
       "10"
      ]
     },
     "execution_count": 6,
     "metadata": {},
     "output_type": "execute_result"
    }
   ],
   "source": [
    "b = 10\n",
    "b"
   ]
  },
  {
   "cell_type": "code",
   "execution_count": 7,
   "id": "63a7ff84",
   "metadata": {},
   "outputs": [
    {
     "data": {
      "text/plain": [
       "20"
      ]
     },
     "execution_count": 7,
     "metadata": {},
     "output_type": "execute_result"
    }
   ],
   "source": [
    "a * b"
   ]
  },
  {
   "cell_type": "code",
   "execution_count": 9,
   "id": "f9e86da5",
   "metadata": {},
   "outputs": [],
   "source": [
    "c = 3 + 3"
   ]
  },
  {
   "cell_type": "code",
   "execution_count": 10,
   "id": "6cee8adc",
   "metadata": {},
   "outputs": [
    {
     "data": {
      "text/plain": [
       "6"
      ]
     },
     "execution_count": 10,
     "metadata": {},
     "output_type": "execute_result"
    }
   ],
   "source": [
    "c"
   ]
  },
  {
   "cell_type": "code",
   "execution_count": 2,
   "id": "21f9d219",
   "metadata": {},
   "outputs": [
    {
     "data": {
      "text/plain": [
       "5"
      ]
     },
     "execution_count": 2,
     "metadata": {},
     "output_type": "execute_result"
    }
   ],
   "source": [
    "2 + 3"
   ]
  },
  {
   "cell_type": "code",
   "execution_count": null,
   "id": "a079074b",
   "metadata": {},
   "outputs": [],
   "source": []
  },
  {
   "cell_type": "markdown",
   "id": "b8f608ea",
   "metadata": {},
   "source": [
    "# homework\n",
    "# Divyapunj ji\n",
    "# Ritika ji\n",
    "\n",
    "car\n",
    "\n",
    "values\n",
    "action\n",
    "\n",
    "feature\n",
    "- car number = KL4321 \n",
    "- car type = automatic\n",
    "- wheel size = \n",
    "- camera = \n",
    "\n",
    "\n",
    "action\n",
    "start()\n",
    "leftturn()\n",
    "break()\n",
    "accelarate()\n",
    "start_fm_radio()\n",
    "ac_on()\n",
    "\n",
    "\n"
   ]
  },
  {
   "cell_type": "code",
   "execution_count": 13,
   "id": "39edcaf0",
   "metadata": {},
   "outputs": [],
   "source": [
    "Ritika = 100"
   ]
  },
  {
   "cell_type": "code",
   "execution_count": 14,
   "id": "628d10ca",
   "metadata": {},
   "outputs": [
    {
     "data": {
      "text/plain": [
       "100"
      ]
     },
     "execution_count": 14,
     "metadata": {},
     "output_type": "execute_result"
    }
   ],
   "source": [
    "Ritika"
   ]
  },
  {
   "cell_type": "code",
   "execution_count": null,
   "id": "799fe010",
   "metadata": {},
   "outputs": [],
   "source": []
  },
  {
   "cell_type": "markdown",
   "id": "33426e51",
   "metadata": {},
   "source": [
    "# Ishita Details\n",
    "- name : Ishita\n",
    "- class : 4\n",
    "- School : Chinmaya\n",
    "- Best Friend : Krishnapriya"
   ]
  },
  {
   "cell_type": "code",
   "execution_count": null,
   "id": "0bfeba19",
   "metadata": {},
   "outputs": [],
   "source": []
  },
  {
   "cell_type": "code",
   "execution_count": 12,
   "id": "f96c8a93",
   "metadata": {},
   "outputs": [
    {
     "data": {
      "text/plain": [
       "4"
      ]
     },
     "execution_count": 12,
     "metadata": {},
     "output_type": "execute_result"
    }
   ],
   "source": [
    "2 + 2"
   ]
  },
  {
   "cell_type": "code",
   "execution_count": 13,
   "id": "830d31ac",
   "metadata": {},
   "outputs": [
    {
     "data": {
      "text/plain": [
       "5"
      ]
     },
     "execution_count": 13,
     "metadata": {},
     "output_type": "execute_result"
    }
   ],
   "source": [
    "3 + 2"
   ]
  },
  {
   "cell_type": "code",
   "execution_count": 16,
   "id": "c801afb3",
   "metadata": {},
   "outputs": [],
   "source": [
    "def sum_number(a, b):\n",
    "    c = a + b\n",
    "    return c"
   ]
  },
  {
   "cell_type": "code",
   "execution_count": 15,
   "id": "1a7f84fc",
   "metadata": {},
   "outputs": [
    {
     "data": {
      "text/plain": [
       "5"
      ]
     },
     "execution_count": 15,
     "metadata": {},
     "output_type": "execute_result"
    }
   ],
   "source": [
    "sum_number(2, 3)"
   ]
  },
  {
   "cell_type": "code",
   "execution_count": 17,
   "id": "1fd2d70c",
   "metadata": {},
   "outputs": [
    {
     "data": {
      "text/plain": [
       "5"
      ]
     },
     "execution_count": 17,
     "metadata": {},
     "output_type": "execute_result"
    }
   ],
   "source": [
    "sum_number(2, 3)"
   ]
  },
  {
   "cell_type": "code",
   "execution_count": 18,
   "id": "328d70b6",
   "metadata": {},
   "outputs": [
    {
     "name": "stdout",
     "output_type": "stream",
     "text": [
      "Help on function sum_number in module __main__:\n",
      "\n",
      "sum_number(a, b)\n",
      "\n"
     ]
    }
   ],
   "source": [
    "help(sum_number)"
   ]
  },
  {
   "cell_type": "code",
   "execution_count": null,
   "id": "216230db",
   "metadata": {},
   "outputs": [],
   "source": []
  },
  {
   "cell_type": "code",
   "execution_count": 22,
   "id": "6bf3b5b9",
   "metadata": {},
   "outputs": [
    {
     "data": {
      "text/plain": [
       "105"
      ]
     },
     "execution_count": 22,
     "metadata": {},
     "output_type": "execute_result"
    }
   ],
   "source": [
    "sum((2, 3, 100))"
   ]
  },
  {
   "cell_type": "code",
   "execution_count": 25,
   "id": "441b9fbb",
   "metadata": {},
   "outputs": [],
   "source": [
    "hari = 4"
   ]
  },
  {
   "cell_type": "code",
   "execution_count": 28,
   "id": "be109172",
   "metadata": {},
   "outputs": [
    {
     "name": "stdout",
     "output_type": "stream",
     "text": [
      "i am good\n"
     ]
    }
   ],
   "source": [
    "print('i am good')"
   ]
  },
  {
   "cell_type": "code",
   "execution_count": 4,
   "id": "ad4be56c",
   "metadata": {},
   "outputs": [],
   "source": [
    "\n",
    "    "
   ]
  },
  {
   "cell_type": "code",
   "execution_count": 29,
   "id": "b7f5b5f6",
   "metadata": {},
   "outputs": [
    {
     "name": "stdout",
     "output_type": "stream",
     "text": [
      "Name: Ishita\n",
      "Father: Dr Hari Shanker Gupta\n",
      "Mother: Swati Gupta\n",
      "School: Chinmaya\n",
      "Section: 4B\n"
     ]
    }
   ],
   "source": [
    "print('Name: Ishita')\n",
    "print('Father: Dr Hari Shanker Gupta')\n",
    "print('Mother: Swati Gupta')\n",
    "print('School: Chinmaya')\n",
    "print('Section: 4B')"
   ]
  },
  {
   "cell_type": "code",
   "execution_count": 32,
   "id": "abc026a2",
   "metadata": {},
   "outputs": [],
   "source": [
    "def about_ishita():\n",
    "    print('Name: Ishita')\n",
    "    print('Father: Dr Hari Shanker Gupta')\n",
    "    print('Mother: Swati Gupta')\n",
    "    print('School: Chinmaya')\n",
    "    print('Section: 4B')"
   ]
  },
  {
   "cell_type": "code",
   "execution_count": 33,
   "id": "49a2a18f",
   "metadata": {},
   "outputs": [
    {
     "name": "stdout",
     "output_type": "stream",
     "text": [
      "Name: Ishita\n",
      "Father: Dr Hari Shanker Gupta\n",
      "Mother: Swati Gupta\n",
      "School: Chinmaya\n",
      "Section: 4B\n"
     ]
    }
   ],
   "source": [
    "about_ishita()"
   ]
  },
  {
   "cell_type": "code",
   "execution_count": 37,
   "id": "64fde3be",
   "metadata": {},
   "outputs": [
    {
     "name": "stdout",
     "output_type": "stream",
     "text": [
      "0\n",
      "1\n",
      "2\n",
      "3\n",
      "4\n"
     ]
    }
   ],
   "source": [
    "for i in range(5):\n",
    "    print(i)\n",
    "#     about_ishita()\n",
    "    "
   ]
  },
  {
   "cell_type": "code",
   "execution_count": 35,
   "id": "19467c71",
   "metadata": {},
   "outputs": [
    {
     "name": "stdout",
     "output_type": "stream",
     "text": [
      "range(0, 5)\n"
     ]
    }
   ],
   "source": [
    "print(range(5))"
   ]
  },
  {
   "cell_type": "code",
   "execution_count": null,
   "id": "e978afc7",
   "metadata": {},
   "outputs": [],
   "source": []
  },
  {
   "cell_type": "code",
   "execution_count": null,
   "id": "929dfc6f",
   "metadata": {},
   "outputs": [],
   "source": []
  },
  {
   "cell_type": "code",
   "execution_count": null,
   "id": "4b6b556d",
   "metadata": {},
   "outputs": [],
   "source": []
  },
  {
   "cell_type": "code",
   "execution_count": 38,
   "id": "4fdb1730",
   "metadata": {},
   "outputs": [],
   "source": [
    "def about_person(name, father, mother, school, section):\n",
    "    print('Name: ' + name)\n",
    "    print('Father: ' + father)\n",
    "    print('Mother: ' + mother)\n",
    "    print('School: ' + school)\n",
    "    print('Section: ' + section)"
   ]
  },
  {
   "cell_type": "code",
   "execution_count": 39,
   "id": "c35707d6",
   "metadata": {},
   "outputs": [
    {
     "name": "stdout",
     "output_type": "stream",
     "text": [
      "Name: ishtia\n",
      "Father: HariG\n",
      "Mother: SwatiG\n",
      "School: chinmaya\n",
      "Section: 4B\n"
     ]
    }
   ],
   "source": [
    "about_person('ishtia', 'HariG', 'SwatiG', 'chinmaya', '4B')"
   ]
  },
  {
   "cell_type": "code",
   "execution_count": 41,
   "id": "1ed55856",
   "metadata": {},
   "outputs": [
    {
     "name": "stdout",
     "output_type": "stream",
     "text": [
      "Name: Divyapunj\n",
      "Father: Prashant\n",
      "Mother: Aparna\n",
      "School: Kendriya\n",
      "Section: 11B\n"
     ]
    }
   ],
   "source": [
    "about_person('Divyapunj', 'Prashant', 'Aparna', 'Kendriya', '11B')"
   ]
  },
  {
   "cell_type": "code",
   "execution_count": 42,
   "id": "f0f07a71",
   "metadata": {},
   "outputs": [
    {
     "name": "stdout",
     "output_type": "stream",
     "text": [
      "Name: Ritika\n",
      "Father: Hari ji\n",
      "Mother: Swati ji\n",
      "School: chinmaya\n",
      "Section: 7E\n"
     ]
    }
   ],
   "source": [
    "about_person('Ritika', 'Hari ji', 'Swati ji', 'chinmaya', '7E')"
   ]
  },
  {
   "cell_type": "code",
   "execution_count": 43,
   "id": "7e9e5127",
   "metadata": {},
   "outputs": [
    {
     "name": "stdout",
     "output_type": "stream",
     "text": [
      "Help on function about_person in module __main__:\n",
      "\n",
      "about_person(name, father, mother, school, section)\n",
      "\n"
     ]
    }
   ],
   "source": [
    "help(about_person)"
   ]
  },
  {
   "cell_type": "code",
   "execution_count": null,
   "id": "fe55f911",
   "metadata": {},
   "outputs": [],
   "source": []
  }
 ],
 "metadata": {
  "kernelspec": {
   "display_name": "Python 3",
   "language": "python",
   "name": "python3"
  },
  "language_info": {
   "codemirror_mode": {
    "name": "ipython",
    "version": 3
   },
   "file_extension": ".py",
   "mimetype": "text/x-python",
   "name": "python",
   "nbconvert_exporter": "python",
   "pygments_lexer": "ipython3",
   "version": "3.8.8"
  }
 },
 "nbformat": 4,
 "nbformat_minor": 5
}
