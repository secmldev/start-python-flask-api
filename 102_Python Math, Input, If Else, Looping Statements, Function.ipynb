{
 "cells": [
  {
   "cell_type": "markdown",
   "id": "cd5472bd",
   "metadata": {
    "id": "cd5472bd"
   },
   "source": [
    "## Import Math Function"
   ]
  },
  {
   "cell_type": "code",
   "execution_count": 2,
   "id": "1634cae9",
   "metadata": {
    "executionInfo": {
     "elapsed": 5,
     "status": "ok",
     "timestamp": 1688989596214,
     "user": {
      "displayName": "Hari Gupta",
      "userId": "01878579745059798902"
     },
     "user_tz": -330
    },
    "id": "1634cae9"
   },
   "outputs": [],
   "source": [
    "import math as m"
   ]
  },
  {
   "cell_type": "code",
   "execution_count": 3,
   "id": "cf769165",
   "metadata": {},
   "outputs": [
    {
     "data": {
      "text/plain": [
       "3.0"
      ]
     },
     "execution_count": 3,
     "metadata": {},
     "output_type": "execute_result"
    }
   ],
   "source": [
    "m.sqrt(9)"
   ]
  },
  {
   "cell_type": "code",
   "execution_count": 9,
   "id": "059fa867",
   "metadata": {},
   "outputs": [
    {
     "name": "stdout",
     "output_type": "stream",
     "text": [
      "Help on built-in function sqrt in module math:\n",
      "\n",
      "sqrt(x, /)\n",
      "    Return the square root of x.\n",
      "\n"
     ]
    }
   ],
   "source": [
    "help(m.sqrt)"
   ]
  },
  {
   "cell_type": "code",
   "execution_count": null,
   "id": "0e8f24e5",
   "metadata": {},
   "outputs": [],
   "source": []
  },
  {
   "cell_type": "code",
   "execution_count": null,
   "id": "d18e2102",
   "metadata": {},
   "outputs": [],
   "source": []
  },
  {
   "cell_type": "code",
   "execution_count": null,
   "id": "ee4d4e1f",
   "metadata": {},
   "outputs": [],
   "source": []
  },
  {
   "cell_type": "code",
   "execution_count": null,
   "id": "09c495e5",
   "metadata": {},
   "outputs": [],
   "source": []
  },
  {
   "cell_type": "code",
   "execution_count": 2,
   "id": "c52a0a7d",
   "metadata": {
    "id": "c52a0a7d",
    "outputId": "d2e0ced4-a791-4f83-b70b-612ccfbc28e8"
   },
   "outputs": [
    {
     "data": {
      "text/plain": [
       "2.0"
      ]
     },
     "execution_count": 2,
     "metadata": {},
     "output_type": "execute_result"
    }
   ],
   "source": [
    "m.sqrt(4)"
   ]
  },
  {
   "cell_type": "code",
   "execution_count": 4,
   "id": "929f926b",
   "metadata": {
    "id": "929f926b",
    "outputId": "97b4658d-3026-4f30-f087-d0d1ba64b282"
   },
   "outputs": [
    {
     "data": {
      "text/plain": [
       "27.0"
      ]
     },
     "execution_count": 4,
     "metadata": {},
     "output_type": "execute_result"
    }
   ],
   "source": [
    "m.pow(3,3)"
   ]
  },
  {
   "cell_type": "code",
   "execution_count": 5,
   "id": "7bc29b72",
   "metadata": {
    "id": "7bc29b72",
    "outputId": "630725e1-6a0c-4f28-b801-d6b0d1dcc8f3"
   },
   "outputs": [
    {
     "data": {
      "text/plain": [
       "2.718281828459045"
      ]
     },
     "execution_count": 5,
     "metadata": {},
     "output_type": "execute_result"
    }
   ],
   "source": [
    "m.e"
   ]
  },
  {
   "cell_type": "code",
   "execution_count": 7,
   "id": "b549be1b",
   "metadata": {
    "id": "b549be1b",
    "outputId": "7d1735fd-7d39-47a2-9b72-6bb60a1138e2"
   },
   "outputs": [
    {
     "data": {
      "text/plain": [
       "30"
      ]
     },
     "execution_count": 7,
     "metadata": {},
     "output_type": "execute_result"
    }
   ],
   "source": [
    "a = 10\n",
    "b = 20\n",
    "c = a + b\n",
    "c"
   ]
  },
  {
   "cell_type": "markdown",
   "id": "a6ed11bf",
   "metadata": {
    "id": "a6ed11bf"
   },
   "source": [
    "## Input Function"
   ]
  },
  {
   "cell_type": "code",
   "execution_count": 8,
   "id": "60e646a9",
   "metadata": {
    "id": "60e646a9",
    "outputId": "dfb4ad0f-1e35-4329-c2c4-8c86670299b4"
   },
   "outputs": [
    {
     "name": "stdout",
     "output_type": "stream",
     "text": [
      "why do not you enter first number45\n",
      "Enter 2nd number36\n",
      "81\n"
     ]
    }
   ],
   "source": [
    "a = int(input(\"why do not you enter first number\"))\n",
    "b = int(input(\"Enter 2nd number\"))\n",
    "c = a + b\n",
    "print(c)"
   ]
  },
  {
   "cell_type": "code",
   "execution_count": 19,
   "id": "590ec449",
   "metadata": {},
   "outputs": [
    {
     "name": "stdout",
     "output_type": "stream",
     "text": [
      "my name is : 102\n"
     ]
    }
   ],
   "source": [
    "a = int(input('my name is : '))"
   ]
  },
  {
   "cell_type": "code",
   "execution_count": 20,
   "id": "8f4b3c8b",
   "metadata": {},
   "outputs": [
    {
     "data": {
      "text/plain": [
       "102"
      ]
     },
     "execution_count": 20,
     "metadata": {},
     "output_type": "execute_result"
    }
   ],
   "source": [
    "a\n"
   ]
  },
  {
   "cell_type": "code",
   "execution_count": 16,
   "id": "9b3d6829",
   "metadata": {},
   "outputs": [
    {
     "data": {
      "text/plain": [
       "str"
      ]
     },
     "execution_count": 16,
     "metadata": {},
     "output_type": "execute_result"
    }
   ],
   "source": [
    "type(a)"
   ]
  },
  {
   "cell_type": "code",
   "execution_count": null,
   "id": "f97bce94",
   "metadata": {},
   "outputs": [],
   "source": []
  },
  {
   "cell_type": "code",
   "execution_count": null,
   "id": "41f7569a",
   "metadata": {},
   "outputs": [],
   "source": []
  },
  {
   "cell_type": "code",
   "execution_count": null,
   "id": "8d0cdf96",
   "metadata": {},
   "outputs": [],
   "source": []
  },
  {
   "cell_type": "code",
   "execution_count": 10,
   "id": "603c847e",
   "metadata": {},
   "outputs": [
    {
     "name": "stdout",
     "output_type": "stream",
     "text": [
      "Ishita is smart \n",
      "   Hari\n"
     ]
    }
   ],
   "source": [
    "print('Ishita is smart \\n   Hari')  "
   ]
  },
  {
   "cell_type": "code",
   "execution_count": null,
   "id": "16487a44",
   "metadata": {},
   "outputs": [],
   "source": []
  },
  {
   "cell_type": "code",
   "execution_count": null,
   "id": "d63fa983",
   "metadata": {},
   "outputs": [],
   "source": []
  },
  {
   "cell_type": "code",
   "execution_count": 22,
   "id": "011d0869",
   "metadata": {},
   "outputs": [
    {
     "name": "stdout",
     "output_type": "stream",
     "text": [
      "Ishita best friend  \n",
      "   Krishnapriya\n"
     ]
    }
   ],
   "source": [
    "print('Ishita best friend  \\n   Krishnapriya') "
   ]
  },
  {
   "cell_type": "code",
   "execution_count": null,
   "id": "01cad100",
   "metadata": {},
   "outputs": [],
   "source": []
  },
  {
   "cell_type": "code",
   "execution_count": null,
   "id": "1c072df5",
   "metadata": {},
   "outputs": [],
   "source": []
  },
  {
   "cell_type": "code",
   "execution_count": 21,
   "id": "b4de8db3",
   "metadata": {
    "id": "b4de8db3",
    "outputId": "240dd2b7-6c4c-41e9-ba56-53c016445929"
   },
   "outputs": [
    {
     "data": {
      "text/plain": [
       "int"
      ]
     },
     "execution_count": 21,
     "metadata": {},
     "output_type": "execute_result"
    }
   ],
   "source": [
    "type(c)"
   ]
  },
  {
   "cell_type": "code",
   "execution_count": 22,
   "id": "1550faf0",
   "metadata": {
    "id": "1550faf0",
    "outputId": "22f246b8-3cc7-426c-8168-52a233c6eb49"
   },
   "outputs": [
    {
     "name": "stdout",
     "output_type": "stream",
     "text": [
      "Enter any character:y\n",
      "y\n"
     ]
    }
   ],
   "source": [
    "char = input(\"Enter any character:\")\n",
    "print(char)"
   ]
  },
  {
   "cell_type": "code",
   "execution_count": null,
   "id": "172e3299",
   "metadata": {
    "id": "172e3299",
    "outputId": "cc1d11ef-8e71-48b4-b76b-6658eb8d35f8"
   },
   "outputs": [
    {
     "name": "stdout",
     "output_type": "stream",
     "text": [
      "Enter any expression:4+3-2\n",
      "5\n"
     ]
    }
   ],
   "source": [
    "result =eval(input(\"Enter any expression:\"))\n",
    "print(result)"
   ]
  },
  {
   "cell_type": "markdown",
   "id": "239d1d4f",
   "metadata": {
    "id": "239d1d4f"
   },
   "source": [
    "# Decision Making Statement\n",
    "# If..Else"
   ]
  },
  {
   "cell_type": "code",
   "execution_count": null,
   "id": "be112c06",
   "metadata": {
    "id": "be112c06",
    "outputId": "2510957b-2ff8-4845-b6e1-e42feafc9e01"
   },
   "outputs": [
    {
     "name": "stdout",
     "output_type": "stream",
     "text": [
      "B is greater than A\n"
     ]
    }
   ],
   "source": [
    "a = 10\n",
    "b = 20\n",
    "if b>a:\n",
    "    print(\"B is greater than A\")\n",
    "else:\n",
    "    print(\"A is greater than B\")\n"
   ]
  },
  {
   "cell_type": "code",
   "execution_count": null,
   "id": "50f88440",
   "metadata": {
    "id": "50f88440",
    "outputId": "96fa20bc-fc92-400f-9ebe-9044e07d450f"
   },
   "outputs": [
    {
     "name": "stdout",
     "output_type": "stream",
     "text": [
      "Enter 1st number30\n",
      "Enter 2nd number20\n",
      "A is greater than B\n"
     ]
    }
   ],
   "source": [
    "a = int(input(\"Enter 1st number\"))\n",
    "b = int(input(\"Enter 2nd number\"))\n",
    "if b>a:\n",
    "    print(\"B is greater than A\")\n",
    "else:\n",
    "    print(\"A is greater than B\")\n"
   ]
  },
  {
   "cell_type": "markdown",
   "id": "f73d1dad",
   "metadata": {
    "id": "f73d1dad"
   },
   "source": [
    "## if with Tuple"
   ]
  },
  {
   "cell_type": "code",
   "execution_count": null,
   "id": "5c399ae3",
   "metadata": {
    "id": "5c399ae3",
    "outputId": "54164fce-c173-494d-adda-30e1620e9b43"
   },
   "outputs": [
    {
     "name": "stdout",
     "output_type": "stream",
     "text": [
      "Value is present in tup\n"
     ]
    }
   ],
   "source": [
    "tup = ('a','b','c','d')\n",
    "if \"a\" in tup:\n",
    "    print(\"Value is present in tup\")\n",
    "else:\n",
    "    print(\"Value is not present in tup\")"
   ]
  },
  {
   "cell_type": "code",
   "execution_count": null,
   "id": "e1988ee2",
   "metadata": {
    "id": "e1988ee2",
    "outputId": "2bcdc318-237c-4a64-9216-55cac36d5735"
   },
   "outputs": [
    {
     "name": "stdout",
     "output_type": "stream",
     "text": [
      "Enter any number9\n",
      "Value is not present in tup\n"
     ]
    }
   ],
   "source": [
    "tup = (1,2,3,5,6,8)\n",
    "num = int(input(\"Enter any number\"))\n",
    "if num in tup:\n",
    "    print(\"Value is present in tup\")\n",
    "else:\n",
    "    print(\"Value is not present in tup\")"
   ]
  },
  {
   "cell_type": "markdown",
   "id": "a55dc1fd",
   "metadata": {
    "id": "a55dc1fd"
   },
   "source": [
    "# Check if the number is odd or even"
   ]
  },
  {
   "cell_type": "code",
   "execution_count": null,
   "id": "73ef3aa1",
   "metadata": {
    "id": "73ef3aa1",
    "outputId": "ad9012cd-b8fd-44c7-f4e3-a462e45755b5"
   },
   "outputs": [
    {
     "name": "stdout",
     "output_type": "stream",
     "text": [
      "Enter any number :5\n",
      "Odd\n"
     ]
    }
   ],
   "source": [
    "n = int(input(\"Enter any number :\"))\n",
    "if n%2==0:\n",
    "    print(\"Even\")\n",
    "else:\n",
    "    print(\"Odd\")"
   ]
  },
  {
   "cell_type": "code",
   "execution_count": null,
   "id": "7ef8d94e",
   "metadata": {
    "id": "7ef8d94e",
    "outputId": "0d3f532e-c173-4ada-b2dc-dcbc8609cfd7"
   },
   "outputs": [
    {
     "name": "stdout",
     "output_type": "stream",
     "text": [
      "Enter any number from 10-100:6\n",
      "Number is not in limit\n"
     ]
    }
   ],
   "source": [
    "# Nested if\n",
    "n = int(input(\"Enter any number from 10-100:\"))\n",
    "if n>10:\n",
    "    print(\"Number is above 10\")\n",
    "    if n<100:\n",
    "        print(\"Number is within range)\")\n",
    "else:\n",
    "    print(\"Number is not in limit\")"
   ]
  },
  {
   "cell_type": "code",
   "execution_count": null,
   "id": "147b62df",
   "metadata": {
    "id": "147b62df",
    "outputId": "f733106d-b1af-4abd-a729-5182c3de3cc1"
   },
   "outputs": [
    {
     "name": "stdout",
     "output_type": "stream",
     "text": [
      "Enter any number6\n",
      "wrong Input\n"
     ]
    }
   ],
   "source": [
    "# if elif\n",
    "n = int(input(\"Enter any number\"))\n",
    "if n==1:\n",
    "    print(\"One\")\n",
    "elif n==2:\n",
    "    print(\"Two\")\n",
    "elif n==3:\n",
    "    print(\"Three\")\n",
    "else:\n",
    "    print(\"wrong Input\")"
   ]
  },
  {
   "cell_type": "code",
   "execution_count": null,
   "id": "6bfdcb72",
   "metadata": {
    "id": "6bfdcb72"
   },
   "outputs": [],
   "source": []
  }
 ],
 "metadata": {
  "colab": {
   "provenance": []
  },
  "kernelspec": {
   "display_name": "Python 3",
   "language": "python",
   "name": "python3"
  },
  "language_info": {
   "codemirror_mode": {
    "name": "ipython",
    "version": 3
   },
   "file_extension": ".py",
   "mimetype": "text/x-python",
   "name": "python",
   "nbconvert_exporter": "python",
   "pygments_lexer": "ipython3",
   "version": "3.8.8"
  }
 },
 "nbformat": 4,
 "nbformat_minor": 5
}
