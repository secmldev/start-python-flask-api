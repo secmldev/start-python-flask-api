{
 "cells": [
  {
   "cell_type": "code",
   "execution_count": 2,
   "id": "22964e61",
   "metadata": {},
   "outputs": [],
   "source": [
    "# import flask\n",
    "\n",
    "from flask import Flask\n",
    "from flask import render_template\n",
    "\n",
    "# Create app, that hosts the application\n",
    "\n",
    "app = Flask(__name__)\n",
    "\n",
    "# route that calls a Python function. \n",
    "# A route maps what you type in the browser (the url) to a Python function.\n",
    "# @app.route('/')\n",
    "@app.route('/indexif')\n",
    "def indexif():\n",
    "    name = 'Divyapunj'\n",
    "    return render_template('index_if.html', title='Welcome', username=name)\n",
    "\n",
    "\n",
    "# @app.route('/')\n",
    "@app.route('/index')\n",
    "def index():\n",
    "    name = 'Hari'\n",
    "    return render_template('index.html', title='Welcome', username=name)\n",
    "\n",
    "\n",
    "# @app.route('/')\n",
    "@app.route('/indexfor')\n",
    "def indexfor():\n",
    "    users = ['Ishita', 'Ritika', 'Divyapunj']\n",
    "    return render_template('index_for.html', title='Welcome', members=users)\n",
    "\n"
   ]
  },
  {
   "cell_type": "code",
   "execution_count": null,
   "id": "6ca2e6fb",
   "metadata": {},
   "outputs": [],
   "source": []
  },
  {
   "cell_type": "code",
   "execution_count": 3,
   "id": "88d94458",
   "metadata": {},
   "outputs": [
    {
     "name": "stdout",
     "output_type": "stream",
     "text": [
      " * Serving Flask app \"__main__\" (lazy loading)\n",
      " * Environment: production\n",
      "\u001b[31m   WARNING: This is a development server. Do not use it in a production deployment.\u001b[0m\n",
      "\u001b[2m   Use a production WSGI server instead.\u001b[0m\n",
      " * Debug mode: off\n"
     ]
    },
    {
     "name": "stderr",
     "output_type": "stream",
     "text": [
      " * Running on all addresses.\n",
      "   WARNING: This is a development server. Do not use it in a production deployment.\n",
      " * Running on http://192.168.1.2:81/ (Press CTRL+C to quit)\n",
      "192.168.1.2 - - [17/Jul/2023 20:33:20] \"GET / HTTP/1.1\" 404 -\n",
      "192.168.1.2 - - [17/Jul/2023 20:33:26] \"GET /index HTTP/1.1\" 200 -\n",
      "192.168.1.2 - - [17/Jul/2023 20:33:31] \"GET /indexfor HTTP/1.1\" 200 -\n",
      "192.168.1.2 - - [17/Jul/2023 20:33:38] \"GET /indexif HTTP/1.1\" 200 -\n"
     ]
    }
   ],
   "source": [
    "app.run(host='0.0.0.0', port=81)"
   ]
  },
  {
   "cell_type": "code",
   "execution_count": null,
   "id": "4230ab68",
   "metadata": {},
   "outputs": [],
   "source": []
  }
 ],
 "metadata": {
  "kernelspec": {
   "display_name": "Python 3 (ipykernel)",
   "language": "python",
   "name": "python3"
  },
  "language_info": {
   "codemirror_mode": {
    "name": "ipython",
    "version": 3
   },
   "file_extension": ".py",
   "mimetype": "text/x-python",
   "name": "python",
   "nbconvert_exporter": "python",
   "pygments_lexer": "ipython3",
   "version": "3.9.7"
  }
 },
 "nbformat": 4,
 "nbformat_minor": 5
}
