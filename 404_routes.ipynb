{
 "cells": [
  {
   "cell_type": "code",
   "execution_count": 1,
   "id": "ff59e93e",
   "metadata": {},
   "outputs": [
    {
     "name": "stdout",
     "output_type": "stream",
     "text": [
      " * Serving Flask app \"__main__\" (lazy loading)\n",
      " * Environment: production\n",
      "\u001b[31m   WARNING: This is a development server. Do not use it in a production deployment.\u001b[0m\n",
      "\u001b[2m   Use a production WSGI server instead.\u001b[0m\n",
      " * Debug mode: off\n"
     ]
    },
    {
     "name": "stderr",
     "output_type": "stream",
     "text": [
      " * Running on http://127.0.0.1:8084/ (Press CTRL+C to quit)\n"
     ]
    }
   ],
   "source": [
    "# import packages\n",
    "from flask import Flask\n",
    "\n",
    "# create app\n",
    "app = Flask(__name__)\n",
    "\n",
    "# start api development\n",
    "@app.route(\"/\")\n",
    "def hello() -> str:\n",
    "    return \"Hello World\"\n",
    "\n",
    "# develop api\n",
    "@app.route(\"/ishita\")\n",
    "def welcome():\n",
    "    return \"Hello Ishita, what is your order\"\n",
    "\n",
    "\n",
    "\n",
    "\n",
    "\n",
    "if __name__ == \"__main__\":\n",
    "    app.run(host=\"127.0.0.1\", port=8084, debug=False)"
   ]
  },
  {
   "cell_type": "code",
   "execution_count": null,
   "id": "56d53720",
   "metadata": {},
   "outputs": [],
   "source": []
  },
  {
   "cell_type": "code",
   "execution_count": null,
   "id": "f014a9b2",
   "metadata": {},
   "outputs": [],
   "source": []
  }
 ],
 "metadata": {
  "kernelspec": {
   "display_name": "Python 3 (ipykernel)",
   "language": "python",
   "name": "python3"
  },
  "language_info": {
   "codemirror_mode": {
    "name": "ipython",
    "version": 3
   },
   "file_extension": ".py",
   "mimetype": "text/x-python",
   "name": "python",
   "nbconvert_exporter": "python",
   "pygments_lexer": "ipython3",
   "version": "3.9.7"
  }
 },
 "nbformat": 4,
 "nbformat_minor": 5
}
