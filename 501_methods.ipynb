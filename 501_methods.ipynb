{
 "cells": [
  {
   "cell_type": "code",
   "execution_count": 1,
   "id": "345a7ec9",
   "metadata": {},
   "outputs": [
    {
     "name": "stdout",
     "output_type": "stream",
     "text": [
      " * Serving Flask app \"__main__\" (lazy loading)\n",
      " * Environment: production\n",
      "\u001b[31m   WARNING: This is a development server. Do not use it in a production deployment.\u001b[0m\n",
      "\u001b[2m   Use a production WSGI server instead.\u001b[0m\n",
      " * Debug mode: off\n"
     ]
    },
    {
     "name": "stderr",
     "output_type": "stream",
     "text": [
      " * Running on http://127.0.0.1:5000/ (Press CTRL+C to quit)\n",
      "127.0.0.1 - - [21/Jul/2023 18:04:45] \"GET / HTTP/1.1\" 404 -\n",
      "127.0.0.1 - - [21/Jul/2023 18:04:45] \"GET /favicon.ico HTTP/1.1\" 404 -\n",
      "127.0.0.1 - - [21/Jul/2023 18:05:36] \"GET /success/manju HTTP/1.1\" 200 -\n"
     ]
    }
   ],
   "source": [
    "from flask import Flask, redirect, url_for, request\n",
    "\n",
    "# create app\n",
    "app = Flask(__name__)\n",
    "\n",
    "\n",
    "# add route\n",
    "@app.route('/success/<name>')\n",
    "def success(name):\n",
    "    return 'welcome %s' % name\n",
    "\n",
    "app.run()\n",
    "\n",
    "\n",
    "# @app.route('/success/<name>')\n",
    "# def success(name):\n",
    "#    return 'welcome %s' % name\n",
    "\n",
    "# @app.route('/login',methods = ['POST', 'GET'])\n",
    "# def login():\n",
    "#    if request.method == 'POST':\n",
    "#       user = request.form['nm']\n",
    "#       return redirect(url_for('success',name = user))\n",
    "#    else:\n",
    "#       user = request.args.get('nm')\n",
    "#       return redirect(url_for('success',name = user))\n",
    "\n",
    "# if __name__ == '__main__':\n",
    "#    app.run(debug = True)"
   ]
  },
  {
   "cell_type": "code",
   "execution_count": null,
   "id": "1451ea83",
   "metadata": {},
   "outputs": [],
   "source": []
  }
 ],
 "metadata": {
  "kernelspec": {
   "display_name": "Python 3 (ipykernel)",
   "language": "python",
   "name": "python3"
  },
  "language_info": {
   "codemirror_mode": {
    "name": "ipython",
    "version": 3
   },
   "file_extension": ".py",
   "mimetype": "text/x-python",
   "name": "python",
   "nbconvert_exporter": "python",
   "pygments_lexer": "ipython3",
   "version": "3.9.7"
  }
 },
 "nbformat": 4,
 "nbformat_minor": 5
}
