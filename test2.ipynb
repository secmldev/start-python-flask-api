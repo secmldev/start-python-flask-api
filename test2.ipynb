{
 "cells": [
  {
   "cell_type": "code",
   "execution_count": 5,
   "id": "c42868ee",
   "metadata": {},
   "outputs": [
    {
     "name": "stdout",
     "output_type": "stream",
     "text": [
      " * Serving Flask app \"__main__\" (lazy loading)\n",
      " * Environment: production\n",
      "\u001b[31m   WARNING: This is a development server. Do not use it in a production deployment.\u001b[0m\n",
      "\u001b[2m   Use a production WSGI server instead.\u001b[0m\n",
      " * Debug mode: off\n"
     ]
    },
    {
     "name": "stderr",
     "output_type": "stream",
     "text": [
      " * Running on http://127.0.0.1:8080/ (Press CTRL+C to quit)\n",
      "127.0.0.1 - - [10/Jul/2023 19:45:22] \"GET / HTTP/1.1\" 200 -\n",
      "127.0.0.1 - - [10/Jul/2023 19:45:22] \"GET /favicon.ico HTTP/1.1\" 200 -\n",
      "[2023-07-10 19:45:27,076] ERROR in app: Exception on /ishita [GET]\n",
      "Traceback (most recent call last):\n",
      "  File \"C:\\ProgramData\\Anaconda3\\lib\\site-packages\\flask\\app.py\", line 2447, in wsgi_app\n",
      "    response = self.full_dispatch_request()\n",
      "  File \"C:\\ProgramData\\Anaconda3\\lib\\site-packages\\flask\\app.py\", line 1953, in full_dispatch_request\n",
      "    return self.finalize_request(rv)\n",
      "  File \"C:\\ProgramData\\Anaconda3\\lib\\site-packages\\flask\\app.py\", line 1968, in finalize_request\n",
      "    response = self.make_response(rv)\n",
      "  File \"C:\\ProgramData\\Anaconda3\\lib\\site-packages\\flask\\app.py\", line 2089, in make_response\n",
      "    raise TypeError(\n",
      "TypeError: The view function did not return a valid response tuple. The tuple must have the form (body, status, headers), (body, status), or (body, headers).\n",
      "127.0.0.1 - - [10/Jul/2023 19:45:27] \"GET /ishita HTTP/1.1\" 500 -\n",
      "127.0.0.1 - - [10/Jul/2023 19:45:27] \"GET /favicon.ico HTTP/1.1\" 200 -\n"
     ]
    },
    {
     "name": "stdout",
     "output_type": "stream",
     "text": [
      "Name: Ishita\n",
      "Father: Dr Hari Shanker Gupta\n",
      "Mother: Swati Gupta\n",
      "School: Chinmaya\n",
      "Section: 4B\n"
     ]
    }
   ],
   "source": [
    "# import packages\n",
    "from flask import Flask\n",
    "\n",
    "# create app\n",
    "app = Flask(__name__)\n",
    "\n",
    "# start api development\n",
    "@app.route(\"/\")\n",
    "def hello() -> str:\n",
    "    return \"Hello World\"\n",
    "\n",
    "\n",
    "@app.route('/nitin')\n",
    "def welcome():\n",
    "    return 'welcome Nitin, what is your order'\n",
    "\n",
    "@app.route('/vishnu')\n",
    "def greet():\n",
    "    return 'Welcome Vishnu ji, what is your order'\n",
    "\n",
    "@app.route('/hari')\n",
    "def namaskar():\n",
    "    return 'Welcome Hari ji, what is your order'\n",
    "\n",
    "@app.route('/ritika')\n",
    "def namaste():\n",
    "    return 'Welcome Hari ji, what is your order'\n",
    "\n",
    "@app.route('/<name>')\n",
    "def good_morning(name):\n",
    "    return 'Welcome ' +  name +', you are new, what is your order'\n",
    "\n",
    "\n",
    "\n",
    "if __name__ == \"__main__\":\n",
    "    app.run(host=\"127.0.0.1\", port=8080, debug=False)"
   ]
  },
  {
   "cell_type": "code",
   "execution_count": null,
   "id": "1a47c015",
   "metadata": {},
   "outputs": [],
   "source": []
  }
 ],
 "metadata": {
  "kernelspec": {
   "display_name": "Python 3 (ipykernel)",
   "language": "python",
   "name": "python3"
  },
  "language_info": {
   "codemirror_mode": {
    "name": "ipython",
    "version": 3
   },
   "file_extension": ".py",
   "mimetype": "text/x-python",
   "name": "python",
   "nbconvert_exporter": "python",
   "pygments_lexer": "ipython3",
   "version": "3.9.7"
  }
 },
 "nbformat": 4,
 "nbformat_minor": 5
}
