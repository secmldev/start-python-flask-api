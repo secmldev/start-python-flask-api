{
 "cells": [
  {
   "cell_type": "code",
   "execution_count": null,
   "id": "fac3bd86",
   "metadata": {},
   "outputs": [],
   "source": [
    "### Ritika ji, Nitin ji, Divyapunj ji, Prachi ji, Dharmendra ji (Saturday, Sunday)\n",
    "- correct document jupyter notebook with markdown formatting, \n",
    "- understand how to use markdown mode and use the knwolege in document notebook\n",
    "- [markdown](https://www.howtogeek.com/448323/what-is-markdown-and-how-do-you-use-it/)\n",
    "- 5 points about each of the page from this [Flask turorial](https://pythonbasics.org/flask-tutorial-hello-world/)\n",
    "\n",
    "\n",
    "- [hello](https://pythonbasics.org/flask-tutorial-hello-world/)\n",
    "- [Templates](https://pythonbasics.org/flask-tutorial-templates/)\n"
   ]
  },
  {
   "cell_type": "code",
   "execution_count": null,
   "id": "35574a48",
   "metadata": {},
   "outputs": [],
   "source": [
    "### Majunath ji, Dayanand ji, Ramakant ji, Akash ji\n",
    "- PowerBI ppt\n",
    "- documents\n",
    "- create folder and upload in google drive"
   ]
  },
  {
   "cell_type": "code",
   "execution_count": null,
   "id": "afbf3b08",
   "metadata": {},
   "outputs": [],
   "source": [
    "### Laxminarayana ji, Dr HariG\n",
    "- Streamlit ppt\n",
    "- streamlit jupyter notebook for use and presentation\n",
    "- create folder and upload in google drive"
   ]
  },
  {
   "cell_type": "code",
   "execution_count": null,
   "id": "b41e19b1",
   "metadata": {},
   "outputs": [],
   "source": []
  }
 ],
 "metadata": {
  "kernelspec": {
   "display_name": "Python 3 (ipykernel)",
   "language": "python",
   "name": "python3"
  },
  "language_info": {
   "codemirror_mode": {
    "name": "ipython",
    "version": 3
   },
   "file_extension": ".py",
   "mimetype": "text/x-python",
   "name": "python",
   "nbconvert_exporter": "python",
   "pygments_lexer": "ipython3",
   "version": "3.9.7"
  }
 },
 "nbformat": 4,
 "nbformat_minor": 5
}
