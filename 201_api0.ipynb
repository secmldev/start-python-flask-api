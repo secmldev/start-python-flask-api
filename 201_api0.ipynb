{
 "cells": [
  {
   "cell_type": "code",
   "execution_count": 3,
   "id": "3c498fb3",
   "metadata": {},
   "outputs": [],
   "source": [
    "# import flask\n",
    "\n",
    "from flask import Flask"
   ]
  },
  {
   "cell_type": "code",
   "execution_count": 4,
   "id": "7a8c10e0",
   "metadata": {},
   "outputs": [],
   "source": [
    "# Create app, that hosts the application\n",
    "\n",
    "app = Flask(__name__)"
   ]
  },
  {
   "cell_type": "code",
   "execution_count": 6,
   "id": "569c6222",
   "metadata": {},
   "outputs": [],
   "source": [
    "# route that calls a Python function. \n",
    "# A route maps what you type in the browser (the url) to a Python function.\n",
    "@app.route('/')\n",
    "def index():\n",
    "    return 'Web App with Python Flask!'\n"
   ]
  },
  {
   "cell_type": "code",
   "execution_count": 12,
   "id": "36065f22",
   "metadata": {},
   "outputs": [
    {
     "name": "stdout",
     "output_type": "stream",
     "text": [
      " * Serving Flask app \"__main__\" (lazy loading)\n",
      " * Environment: production\n",
      "\u001b[31m   WARNING: This is a development server. Do not use it in a production deployment.\u001b[0m\n",
      "\u001b[2m   Use a production WSGI server instead.\u001b[0m\n",
      " * Debug mode: off\n"
     ]
    },
    {
     "name": "stderr",
     "output_type": "stream",
     "text": [
      " * Running on http://0.0.0.0:81/ (Press CTRL+C to quit)\n"
     ]
    }
   ],
   "source": [
    "app.run(host='0.0.0.0', port=81)"
   ]
  },
  {
   "cell_type": "code",
   "execution_count": 1,
   "id": "85b0d500",
   "metadata": {},
   "outputs": [
    {
     "name": "stdout",
     "output_type": "stream",
     "text": [
      " * Serving Flask app \"__main__\" (lazy loading)\n",
      " * Environment: production\n",
      "\u001b[31m   WARNING: This is a development server. Do not use it in a production deployment.\u001b[0m\n",
      "\u001b[2m   Use a production WSGI server instead.\u001b[0m\n",
      " * Debug mode: off\n"
     ]
    },
    {
     "name": "stderr",
     "output_type": "stream",
     "text": [
      " * Running on all addresses.\n",
      "   WARNING: This is a development server. Do not use it in a production deployment.\n",
      " * Running on http://192.168.1.2:82/ (Press CTRL+C to quit)\n",
      "192.168.1.2 - - [17/Jul/2023 20:06:31] \"GET / HTTP/1.1\" 200 -\n",
      "192.168.1.2 - - [17/Jul/2023 20:06:31] \"GET /favicon.ico HTTP/1.1\" 404 -\n"
     ]
    }
   ],
   "source": [
    "# import flask\n",
    "\n",
    "from flask import Flask\n",
    "\n",
    "# Create app, that hosts the application\n",
    "\n",
    "app = Flask(__name__)\n",
    "\n",
    "# route that calls a Python function. \n",
    "# A route maps what you type in the browser (the url) to a Python function.\n",
    "@app.route('/')\n",
    "def index():\n",
    "    return 'Web App with Python Flask!'\n",
    "\n",
    "\n",
    "app.run(host='0.0.0.0', port=82)"
   ]
  },
  {
   "cell_type": "code",
   "execution_count": 2,
   "id": "cddf8462",
   "metadata": {},
   "outputs": [
    {
     "name": "stdout",
     "output_type": "stream",
     "text": [
      " * Serving Flask app \"__main__\" (lazy loading)\n",
      " * Environment: production\n",
      "\u001b[31m   WARNING: This is a development server. Do not use it in a production deployment.\u001b[0m\n",
      "\u001b[2m   Use a production WSGI server instead.\u001b[0m\n",
      " * Debug mode: off\n"
     ]
    },
    {
     "name": "stderr",
     "output_type": "stream",
     "text": [
      " * Running on all addresses.\n",
      "   WARNING: This is a development server. Do not use it in a production deployment.\n",
      " * Running on http://192.168.1.3:82/ (Press CTRL+C to quit)\n",
      "192.168.1.3 - - [14/Jul/2023 20:20:20] \"GET / HTTP/1.1\" 200 -\n",
      "192.168.1.3 - - [14/Jul/2023 20:20:20] \"GET /favicon.ico HTTP/1.1\" 404 -\n"
     ]
    }
   ],
   "source": [
    "# A very simple Flask Hello World app for you to get started with...\n",
    "\n",
    "from flask import Flask\n",
    "\n",
    "app = Flask(__name__)\n",
    "\n",
    "@app.route('/')\n",
    "def hello_world():\n",
    "    return 'Hello from Flask!'\n",
    "\n",
    "\n",
    "app.run(host='0.0.0.0', port=82)"
   ]
  },
  {
   "cell_type": "code",
   "execution_count": null,
   "id": "36ae08dd",
   "metadata": {},
   "outputs": [],
   "source": []
  }
 ],
 "metadata": {
  "kernelspec": {
   "display_name": "Python 3 (ipykernel)",
   "language": "python",
   "name": "python3"
  },
  "language_info": {
   "codemirror_mode": {
    "name": "ipython",
    "version": 3
   },
   "file_extension": ".py",
   "mimetype": "text/x-python",
   "name": "python",
   "nbconvert_exporter": "python",
   "pygments_lexer": "ipython3",
   "version": "3.9.7"
  }
 },
 "nbformat": 4,
 "nbformat_minor": 5
}
