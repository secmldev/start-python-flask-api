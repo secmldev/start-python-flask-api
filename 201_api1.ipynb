{
 "cells": [
  {
   "cell_type": "code",
   "execution_count": 1,
   "id": "c42868ee",
   "metadata": {},
   "outputs": [
    {
     "name": "stdout",
     "output_type": "stream",
     "text": [
      " * Serving Flask app \"__main__\" (lazy loading)\n",
      " * Environment: production\n",
      "\u001b[31m   WARNING: This is a development server. Do not use it in a production deployment.\u001b[0m\n",
      "\u001b[2m   Use a production WSGI server instead.\u001b[0m\n",
      " * Debug mode: off\n"
     ]
    },
    {
     "name": "stderr",
     "output_type": "stream",
     "text": [
      " * Running on http://127.0.0.1:8080/ (Press CTRL+C to quit)\n"
     ]
    }
   ],
   "source": [
    "# import packages\n",
    "from flask import Flask\n",
    "\n",
    "# create app\n",
    "app = Flask(__name__)\n",
    "\n",
    "# develop api\n",
    "@app.route(\"/\")\n",
    "def hello():\n",
    "    return \"I am happy to say hello\"\n",
    "\n",
    "# develop api\n",
    "@app.route(\"/mukund\")\n",
    "def greet():\n",
    "    return \"ok\"\n",
    "\n",
    "# develop api\n",
    "@app.route(\"/ishita\")\n",
    "def welcome():\n",
    "    return \"I am happy to say hello\"\n",
    "\n",
    "# develop api\n",
    "@app.route('/hari')\n",
    "def namaskar():\n",
    "    return 'Welcome Hari ji, what is your order'\n",
    "\n",
    "# develop api\n",
    "@app.route('/ritika')\n",
    "def namaste():\n",
    "    return 'Welcome Hari ji, what is your order'\n",
    "\n",
    "#develop api\n",
    "@app.route('/<name>')\n",
    "def good_morning(name):\n",
    "    return 'Welcome ' +  name +', you are new, what is your order'\n",
    "\n",
    "# run app\n",
    "if __name__ == \"__main__\":\n",
    "    app.run(host=\"127.0.0.1\", port=8080, debug=False)"
   ]
  },
  {
   "cell_type": "code",
   "execution_count": null,
   "id": "1a47c015",
   "metadata": {},
   "outputs": [],
   "source": []
  }
 ],
 "metadata": {
  "kernelspec": {
   "display_name": "Python 3",
   "language": "python",
   "name": "python3"
  },
  "language_info": {
   "codemirror_mode": {
    "name": "ipython",
    "version": 3
   },
   "file_extension": ".py",
   "mimetype": "text/x-python",
   "name": "python",
   "nbconvert_exporter": "python",
   "pygments_lexer": "ipython3",
   "version": "3.8.8"
  }
 },
 "nbformat": 4,
 "nbformat_minor": 5
}
