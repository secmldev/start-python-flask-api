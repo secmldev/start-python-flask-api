{
 "cells": [
  {
   "cell_type": "markdown",
   "id": "172b9a24",
   "metadata": {},
   "source": [
    "### Learning\n",
    "- Basic start of python\n",
    "- Basic flask\n",
    "- Basic api"
   ]
  },
  {
   "cell_type": "code",
   "execution_count": null,
   "id": "b33bb24a",
   "metadata": {},
   "outputs": [],
   "source": []
  },
  {
   "cell_type": "markdown",
   "id": "f3aee11a",
   "metadata": {},
   "source": [
    "[Flask Tutorial](https://pythonbasics.org/flask-tutorial-hello-world/)"
   ]
  },
  {
   "cell_type": "markdown",
   "id": "2e973975",
   "metadata": {},
   "source": [
    "[Routes](https://pythonbasics.org/flask-tutorial-routes/)"
   ]
  },
  {
   "cell_type": "code",
   "execution_count": null,
   "id": "8da1798e",
   "metadata": {},
   "outputs": [],
   "source": [
    "- templates are used to separate bussiness logic from presentation logic. This increases maintainability, extensionability and portability of your software.\n",
    "- Templates help you reuse visuals.In all web apps, the visuals are reused. This helps you divide the business and presentation logic. You don’t want your app code mixed with graphical design code.\n",
    "- Imagine an analytics app. You’d want the same navigation and footer on every page. The contents may differ, but the general design stays the same. That’s done with templates."
   ]
  }
 ],
 "metadata": {
  "kernelspec": {
   "display_name": "Python 3",
   "language": "python",
   "name": "python3"
  },
  "language_info": {
   "codemirror_mode": {
    "name": "ipython",
    "version": 3
   },
   "file_extension": ".py",
   "mimetype": "text/x-python",
   "name": "python",
   "nbconvert_exporter": "python",
   "pygments_lexer": "ipython3",
   "version": "3.8.8"
  }
 },
 "nbformat": 4,
 "nbformat_minor": 5
}
