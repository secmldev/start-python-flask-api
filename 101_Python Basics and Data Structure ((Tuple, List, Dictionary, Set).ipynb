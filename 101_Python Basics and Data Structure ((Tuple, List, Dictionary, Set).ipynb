{
 "cells": [
  {
   "cell_type": "code",
   "execution_count": 6,
   "id": "d8c43701",
   "metadata": {},
   "outputs": [
    {
     "data": {
      "text/plain": [
       "2"
      ]
     },
     "execution_count": 6,
     "metadata": {},
     "output_type": "execute_result"
    }
   ],
   "source": [
    "1+1"
   ]
  },
  {
   "cell_type": "code",
   "execution_count": 7,
   "id": "2e0e9591",
   "metadata": {},
   "outputs": [],
   "source": [
    "#variable\n",
    "a= 10"
   ]
  },
  {
   "cell_type": "code",
   "execution_count": 8,
   "id": "300ab119",
   "metadata": {},
   "outputs": [
    {
     "data": {
      "text/plain": [
       "10"
      ]
     },
     "execution_count": 8,
     "metadata": {},
     "output_type": "execute_result"
    }
   ],
   "source": [
    "a"
   ]
  },
  {
   "cell_type": "code",
   "execution_count": 9,
   "id": "5f19092d",
   "metadata": {},
   "outputs": [
    {
     "name": "stdout",
     "output_type": "stream",
     "text": [
      "Ram Singh\n"
     ]
    }
   ],
   "source": [
    "#String\n",
    "student = \"Ram Singh\"\n",
    "print(student)"
   ]
  },
  {
   "cell_type": "code",
   "execution_count": 4,
   "id": "e66a8090",
   "metadata": {},
   "outputs": [
    {
     "data": {
      "text/plain": [
       "\"Ram's Laptop\""
      ]
     },
     "execution_count": 4,
     "metadata": {},
     "output_type": "execute_result"
    }
   ],
   "source": [
    "student = \"Ram's Laptop\"\n",
    "student"
   ]
  },
  {
   "cell_type": "code",
   "execution_count": 5,
   "id": "ca609cf8",
   "metadata": {},
   "outputs": [
    {
     "data": {
      "text/plain": [
       "\"Ram's Laptop\""
      ]
     },
     "execution_count": 5,
     "metadata": {},
     "output_type": "execute_result"
    }
   ],
   "source": [
    "student = \"Ram\\'s Laptop\"\n",
    "student"
   ]
  },
  {
   "cell_type": "code",
   "execution_count": 6,
   "id": "e6fe9d2d",
   "metadata": {},
   "outputs": [
    {
     "name": "stdout",
     "output_type": "stream",
     "text": [
      "c:\\docs\\Ram\n",
      "ew\n"
     ]
    }
   ],
   "source": [
    "print('c:\\docs\\Ram\\new')"
   ]
  },
  {
   "cell_type": "code",
   "execution_count": 7,
   "id": "3a83b22c",
   "metadata": {},
   "outputs": [
    {
     "name": "stdout",
     "output_type": "stream",
     "text": [
      "c:\\docs\\Ram\\new\n"
     ]
    }
   ],
   "source": [
    "print(r'c:\\docs\\Ram\\new')"
   ]
  },
  {
   "cell_type": "code",
   "execution_count": 11,
   "id": "c3218de2",
   "metadata": {},
   "outputs": [
    {
     "data": {
      "text/plain": [
       "'Ram Singh Learning Python'"
      ]
     },
     "execution_count": 11,
     "metadata": {},
     "output_type": "execute_result"
    }
   ],
   "source": [
    "# String Function\n",
    "student +\" Learning Python\""
   ]
  },
  {
   "cell_type": "code",
   "execution_count": 12,
   "id": "3afb0bc5",
   "metadata": {},
   "outputs": [
    {
     "data": {
      "text/plain": [
       "'Ram SinghRam Singh'"
      ]
     },
     "execution_count": 12,
     "metadata": {},
     "output_type": "execute_result"
    }
   ],
   "source": [
    "student*2"
   ]
  },
  {
   "cell_type": "code",
   "execution_count": 13,
   "id": "2e913b0b",
   "metadata": {},
   "outputs": [
    {
     "data": {
      "text/plain": [
       "9"
      ]
     },
     "execution_count": 13,
     "metadata": {},
     "output_type": "execute_result"
    }
   ],
   "source": [
    "len(student)"
   ]
  },
  {
   "cell_type": "code",
   "execution_count": 15,
   "id": "c71d9fc9",
   "metadata": {},
   "outputs": [
    {
     "data": {
      "text/plain": [
       "'a'"
      ]
     },
     "execution_count": 15,
     "metadata": {},
     "output_type": "execute_result"
    }
   ],
   "source": [
    "student[1]"
   ]
  },
  {
   "cell_type": "markdown",
   "id": "c5800eeb",
   "metadata": {},
   "source": [
    "# Data Structures in Python\n",
    "    1. Tuple\n",
    "    2. List\n",
    "    3. Dictionary\n",
    "    4. Set"
   ]
  },
  {
   "cell_type": "markdown",
   "id": "626b2248",
   "metadata": {},
   "source": [
    "## Tuple \n",
    "    + ordered collection of elements enlcosed with ()\n",
    "    + Immutable ( can't modify)\n",
    "    \n"
   ]
  },
  {
   "cell_type": "code",
   "execution_count": 10,
   "id": "c2c8535b",
   "metadata": {},
   "outputs": [],
   "source": [
    "tup = (2,1,4,5,6)"
   ]
  },
  {
   "cell_type": "code",
   "execution_count": 11,
   "id": "d3b7dab5",
   "metadata": {},
   "outputs": [
    {
     "data": {
      "text/plain": [
       "tuple"
      ]
     },
     "execution_count": 11,
     "metadata": {},
     "output_type": "execute_result"
    }
   ],
   "source": [
    "type(tup)"
   ]
  },
  {
   "cell_type": "code",
   "execution_count": 12,
   "id": "4e1c7d66",
   "metadata": {},
   "outputs": [
    {
     "data": {
      "text/plain": [
       "4"
      ]
     },
     "execution_count": 12,
     "metadata": {},
     "output_type": "execute_result"
    }
   ],
   "source": [
    "tup[2]"
   ]
  },
  {
   "cell_type": "code",
   "execution_count": 13,
   "id": "c8c57156",
   "metadata": {},
   "outputs": [],
   "source": [
    "tup2 = (4,5,2,5)"
   ]
  },
  {
   "cell_type": "code",
   "execution_count": 14,
   "id": "c9aad938",
   "metadata": {},
   "outputs": [
    {
     "data": {
      "text/plain": [
       "(2, 1, 4, 5, 6, 4, 5, 2, 5)"
      ]
     },
     "execution_count": 14,
     "metadata": {},
     "output_type": "execute_result"
    }
   ],
   "source": [
    "# Concantenation tuple \n",
    "tup +tup2"
   ]
  },
  {
   "cell_type": "markdown",
   "id": "98cafa78",
   "metadata": {},
   "source": [
    "## List \n",
    "    + Ordered Collection of elements enclosed with []\n",
    "    + Mutuable\n",
    "    + Allow duplicate values"
   ]
  },
  {
   "cell_type": "code",
   "execution_count": 15,
   "id": "ee0e2fad",
   "metadata": {},
   "outputs": [],
   "source": [
    "li = [3,5,7,8]\n"
   ]
  },
  {
   "cell_type": "code",
   "execution_count": 16,
   "id": "dc206bae",
   "metadata": {},
   "outputs": [
    {
     "data": {
      "text/plain": [
       "list"
      ]
     },
     "execution_count": 16,
     "metadata": {},
     "output_type": "execute_result"
    }
   ],
   "source": [
    "type(li)"
   ]
  },
  {
   "cell_type": "code",
   "execution_count": 17,
   "id": "a7c28e10",
   "metadata": {},
   "outputs": [],
   "source": [
    "# Modifying\n",
    "li[0]=1"
   ]
  },
  {
   "cell_type": "code",
   "execution_count": 18,
   "id": "efb379e5",
   "metadata": {},
   "outputs": [
    {
     "data": {
      "text/plain": [
       "[1, 5, 7, 8]"
      ]
     },
     "execution_count": 18,
     "metadata": {},
     "output_type": "execute_result"
    }
   ],
   "source": [
    "li"
   ]
  },
  {
   "cell_type": "code",
   "execution_count": 19,
   "id": "94569ba4",
   "metadata": {},
   "outputs": [],
   "source": [
    "li.append(2.3)"
   ]
  },
  {
   "cell_type": "code",
   "execution_count": 20,
   "id": "fd13011d",
   "metadata": {},
   "outputs": [
    {
     "data": {
      "text/plain": [
       "[1, 5, 7, 8, 2.3]"
      ]
     },
     "execution_count": 20,
     "metadata": {},
     "output_type": "execute_result"
    }
   ],
   "source": [
    "li"
   ]
  },
  {
   "cell_type": "code",
   "execution_count": 21,
   "id": "5be6b764",
   "metadata": {},
   "outputs": [
    {
     "data": {
      "text/plain": [
       "2.3"
      ]
     },
     "execution_count": 21,
     "metadata": {},
     "output_type": "execute_result"
    }
   ],
   "source": [
    "# pop\n",
    "li.pop()"
   ]
  },
  {
   "cell_type": "code",
   "execution_count": 22,
   "id": "c5258d6a",
   "metadata": {},
   "outputs": [],
   "source": [
    "li.reverse()"
   ]
  },
  {
   "cell_type": "code",
   "execution_count": 23,
   "id": "6e70e173",
   "metadata": {},
   "outputs": [
    {
     "data": {
      "text/plain": [
       "[8, 7, 5, 1]"
      ]
     },
     "execution_count": 23,
     "metadata": {},
     "output_type": "execute_result"
    }
   ],
   "source": [
    "li"
   ]
  },
  {
   "cell_type": "code",
   "execution_count": 24,
   "id": "95c905a8",
   "metadata": {},
   "outputs": [],
   "source": [
    "li.sort()"
   ]
  },
  {
   "cell_type": "code",
   "execution_count": 25,
   "id": "040817d5",
   "metadata": {},
   "outputs": [
    {
     "data": {
      "text/plain": [
       "[1, 5, 7, 8]"
      ]
     },
     "execution_count": 25,
     "metadata": {},
     "output_type": "execute_result"
    }
   ],
   "source": [
    "li "
   ]
  },
  {
   "cell_type": "markdown",
   "id": "75b93899",
   "metadata": {},
   "source": [
    "## Dictionary\n",
    "    + Unordered collection of Key-pair enclosed with {}\n",
    "    + Mutable"
   ]
  },
  {
   "cell_type": "code",
   "execution_count": 26,
   "id": "770b4764",
   "metadata": {},
   "outputs": [
    {
     "data": {
      "text/plain": [
       "{'Apple': 100, 'Grapes': 80}"
      ]
     },
     "execution_count": 26,
     "metadata": {},
     "output_type": "execute_result"
    }
   ],
   "source": [
    "d1= {'Apple':100, \"Grapes\":80}\n",
    "d1"
   ]
  },
  {
   "cell_type": "code",
   "execution_count": 27,
   "id": "1ce63c12",
   "metadata": {},
   "outputs": [
    {
     "data": {
      "text/plain": [
       "dict"
      ]
     },
     "execution_count": 27,
     "metadata": {},
     "output_type": "execute_result"
    }
   ],
   "source": [
    "type(d1)"
   ]
  },
  {
   "cell_type": "code",
   "execution_count": 32,
   "id": "5d5a8088",
   "metadata": {},
   "outputs": [
    {
     "data": {
      "text/plain": [
       "80"
      ]
     },
     "execution_count": 32,
     "metadata": {},
     "output_type": "execute_result"
    }
   ],
   "source": [
    "# Fetching the particular value using key, key should be mentioned in []\n",
    "d1[\"Grapes\"]"
   ]
  },
  {
   "cell_type": "code",
   "execution_count": 33,
   "id": "f6ac8c85",
   "metadata": {},
   "outputs": [
    {
     "data": {
      "text/plain": [
       "dict_keys(['Apple', 'Grapes'])"
      ]
     },
     "execution_count": 33,
     "metadata": {},
     "output_type": "execute_result"
    }
   ],
   "source": [
    "d1.keys()"
   ]
  },
  {
   "cell_type": "code",
   "execution_count": 34,
   "id": "69f9494a",
   "metadata": {},
   "outputs": [
    {
     "data": {
      "text/plain": [
       "dict_values([100, 80])"
      ]
     },
     "execution_count": 34,
     "metadata": {},
     "output_type": "execute_result"
    }
   ],
   "source": [
    "d1.values()"
   ]
  },
  {
   "cell_type": "code",
   "execution_count": 36,
   "id": "8eaff79e",
   "metadata": {},
   "outputs": [],
   "source": [
    "# Adding a new key-pair \n",
    "d1[\"Kiwi\"]= 120"
   ]
  },
  {
   "cell_type": "code",
   "execution_count": 37,
   "id": "878107fa",
   "metadata": {},
   "outputs": [
    {
     "data": {
      "text/plain": [
       "{'Apple': 100, 'Grapes': 80, 'Kiwi': 120}"
      ]
     },
     "execution_count": 37,
     "metadata": {},
     "output_type": "execute_result"
    }
   ],
   "source": [
    "d1"
   ]
  },
  {
   "cell_type": "code",
   "execution_count": 38,
   "id": "7db6a7f8",
   "metadata": {},
   "outputs": [
    {
     "data": {
      "text/plain": [
       "120"
      ]
     },
     "execution_count": 38,
     "metadata": {},
     "output_type": "execute_result"
    }
   ],
   "source": [
    "# Remove\n",
    "d1.pop(\"Kiwi\")"
   ]
  },
  {
   "cell_type": "code",
   "execution_count": 39,
   "id": "5432c8f7",
   "metadata": {},
   "outputs": [
    {
     "data": {
      "text/plain": [
       "{'Apple': 100, 'Grapes': 80}"
      ]
     },
     "execution_count": 39,
     "metadata": {},
     "output_type": "execute_result"
    }
   ],
   "source": [
    "d1"
   ]
  },
  {
   "cell_type": "markdown",
   "id": "f4ef1caa",
   "metadata": {},
   "source": [
    "## Set\n",
    "    + Unordered and unindexed collection of elements enclosed with {}\n",
    "    + Duplicates are not allowed\n",
    "    + Elements are stored in random order, there will be no index"
   ]
  },
  {
   "cell_type": "code",
   "execution_count": 41,
   "id": "a41dbd0b",
   "metadata": {},
   "outputs": [],
   "source": [
    "set = {3.14, \"Hello\", 3.14}"
   ]
  },
  {
   "cell_type": "code",
   "execution_count": 42,
   "id": "215f2f81",
   "metadata": {},
   "outputs": [
    {
     "data": {
      "text/plain": [
       "{3.14, 'Hello'}"
      ]
     },
     "execution_count": 42,
     "metadata": {},
     "output_type": "execute_result"
    }
   ],
   "source": [
    "set"
   ]
  },
  {
   "cell_type": "code",
   "execution_count": 43,
   "id": "d47a34da",
   "metadata": {},
   "outputs": [
    {
     "data": {
      "text/plain": [
       "set"
      ]
     },
     "execution_count": 43,
     "metadata": {},
     "output_type": "execute_result"
    }
   ],
   "source": [
    "type(set)"
   ]
  },
  {
   "cell_type": "code",
   "execution_count": 44,
   "id": "2c00bdbb",
   "metadata": {},
   "outputs": [],
   "source": [
    "s1 = {2,3,5,3,6,7,7}\n",
    "s2 = {4,6,7,2,3,1,8,8}\n"
   ]
  },
  {
   "cell_type": "code",
   "execution_count": 46,
   "id": "fb9adc3c",
   "metadata": {},
   "outputs": [
    {
     "data": {
      "text/plain": [
       "{1, 2, 3, 4, 5, 6, 7, 8}"
      ]
     },
     "execution_count": 46,
     "metadata": {},
     "output_type": "execute_result"
    }
   ],
   "source": [
    "s1.union(s2)"
   ]
  }
 ],
 "metadata": {
  "kernelspec": {
   "display_name": "Python 3 (ipykernel)",
   "language": "python",
   "name": "python3"
  },
  "language_info": {
   "codemirror_mode": {
    "name": "ipython",
    "version": 3
   },
   "file_extension": ".py",
   "mimetype": "text/x-python",
   "name": "python",
   "nbconvert_exporter": "python",
   "pygments_lexer": "ipython3",
   "version": "3.9.7"
  }
 },
 "nbformat": 4,
 "nbformat_minor": 5
}
