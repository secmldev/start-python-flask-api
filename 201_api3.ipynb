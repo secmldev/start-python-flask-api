{
 "cells": [
  {
   "cell_type": "code",
   "execution_count": 2,
   "id": "97b399ac",
   "metadata": {},
   "outputs": [
    {
     "name": "stdout",
     "output_type": "stream",
     "text": [
      " * Serving Flask app \"__main__\" (lazy loading)\n",
      " * Environment: production\n",
      "\u001b[31m   WARNING: This is a development server. Do not use it in a production deployment.\u001b[0m\n",
      "\u001b[2m   Use a production WSGI server instead.\u001b[0m\n",
      " * Debug mode: off\n"
     ]
    },
    {
     "name": "stderr",
     "output_type": "stream",
     "text": [
      " * Running on http://127.0.0.1:8083/ (Press CTRL+C to quit)\n",
      "127.0.0.1 - - [12/Jul/2023 09:02:14] \"\u001b[37mGET / HTTP/1.1\u001b[0m\" 200 -\n",
      "127.0.0.1 - - [12/Jul/2023 09:02:14] \"\u001b[37mGET /favicon.ico HTTP/1.1\u001b[0m\" 200 -\n"
     ]
    }
   ],
   "source": [
    "# import packages\n",
    "from flask import Flask\n",
    "\n",
    "# create app\n",
    "app = Flask(__name__)\n",
    "\n",
    "# Define api\n",
    "@app.route(\"/\")\n",
    "def index():\n",
    "    return \"This is Home Page\"\n",
    "# develop api\n",
    "@app.route(\"/hello\")\n",
    "def hello():\n",
    "    return \"This is hello, world page\"\n",
    "\n",
    "# static\n",
    "#develop api\n",
    "@app.route(\"/Ajay\")\n",
    "def welcome():\n",
    "    return \"Welcome Ajay, what is your order\"\n",
    "\n",
    "# static\n",
    "#develop api\n",
    "@app.route(\"/C B Shukla\")\n",
    "def greet():\n",
    "    return \"Welcome C B Shulka ji, what is your plan for today\"\n",
    "\n",
    "# dynamic\n",
    "# develop api\n",
    "@app.route('/<name>')\n",
    "def namaskara(name):\n",
    "    return f'welcome {name}. What would you like to order.'\n",
    "\n",
    "# route param\n",
    "@app.route('/post/<id>')\n",
    "def show_post(id):\n",
    "    return f'Post ID is: {id}'\n",
    "\n",
    "@app.route('/product/<name>')\n",
    "def get_prodcut(name):\n",
    "    return 'Product is  :' + name\n",
    "\n",
    "@app.route('/sale/<transaction_id>')\n",
    "def get_sale(transaction_id = 0):\n",
    "    return 'The trasaction is ' + str(transaction_id)\n",
    "\n",
    "# multiple param\n",
    "@app.route('/create/<first_name>/<last_name>')\n",
    "def create(first_name=None, last_name=None):\n",
    "    return 'Hello ' + first_name + last_name\n",
    "\n",
    "if __name__ == \"__main__\":\n",
    "    app.run(host=\"127.0.0.1\", port=8083, debug=False)"
   ]
  },
  {
   "cell_type": "code",
   "execution_count": null,
   "id": "e8d7e8f3",
   "metadata": {},
   "outputs": [],
   "source": []
  }
 ],
 "metadata": {
  "kernelspec": {
   "display_name": "Python 3",
   "language": "python",
   "name": "python3"
  },
  "language_info": {
   "codemirror_mode": {
    "name": "ipython",
    "version": 3
   },
   "file_extension": ".py",
   "mimetype": "text/x-python",
   "name": "python",
   "nbconvert_exporter": "python",
   "pygments_lexer": "ipython3",
   "version": "3.8.8"
  }
 },
 "nbformat": 4,
 "nbformat_minor": 5
}
