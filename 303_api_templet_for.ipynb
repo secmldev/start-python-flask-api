{
 "cells": [
  {
   "cell_type": "code",
   "execution_count": 6,
   "id": "786cd738",
   "metadata": {},
   "outputs": [
    {
     "name": "stdout",
     "output_type": "stream",
     "text": [
      " * Serving Flask app \"__main__\" (lazy loading)\n",
      " * Environment: production\n",
      "\u001b[31m   WARNING: This is a development server. Do not use it in a production deployment.\u001b[0m\n",
      "\u001b[2m   Use a production WSGI server instead.\u001b[0m\n",
      " * Debug mode: off\n"
     ]
    },
    {
     "name": "stderr",
     "output_type": "stream",
     "text": [
      " * Running on http://0.0.0.0:81/ (Press CTRL+C to quit)\n",
      "127.0.0.1 - - [12/Jul/2023 12:34:20] \"\u001b[37mGET / HTTP/1.1\u001b[0m\" 200 -\n",
      "127.0.0.1 - - [12/Jul/2023 12:34:31] \"\u001b[37mGET / HTTP/1.1\u001b[0m\" 200 -\n"
     ]
    }
   ],
   "source": [
    "# import flask\n",
    "\n",
    "from flask import Flask\n",
    "from flask import render_template\n",
    "\n",
    "# Create app, that hosts the application\n",
    "\n",
    "app = Flask(__name__)\n",
    "\n",
    "# route that calls a Python function. \n",
    "# A route maps what you type in the browser (the url) to a Python function.\n",
    "@app.route('/')\n",
    "@app.route('/index')\n",
    "def index():\n",
    "    users = ['Ishita', 'Ritika', 'Divyapunj']\n",
    "    return render_template('index_for.html', title='Welcome', members=users)\n",
    "\n",
    "app.run(host='0.0.0.0', port=81)"
   ]
  },
  {
   "cell_type": "code",
   "execution_count": null,
   "id": "40c73027",
   "metadata": {},
   "outputs": [],
   "source": []
  }
 ],
 "metadata": {
  "kernelspec": {
   "display_name": "Python 3",
   "language": "python",
   "name": "python3"
  },
  "language_info": {
   "codemirror_mode": {
    "name": "ipython",
    "version": 3
   },
   "file_extension": ".py",
   "mimetype": "text/x-python",
   "name": "python",
   "nbconvert_exporter": "python",
   "pygments_lexer": "ipython3",
   "version": "3.8.8"
  }
 },
 "nbformat": 4,
 "nbformat_minor": 5
}
