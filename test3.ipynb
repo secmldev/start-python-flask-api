{
 "cells": [
  {
   "cell_type": "code",
   "execution_count": 29,
   "id": "ff59e93e",
   "metadata": {},
   "outputs": [
    {
     "name": "stdout",
     "output_type": "stream",
     "text": [
      " * Serving Flask app \"__main__\" (lazy loading)\n",
      " * Environment: production\n",
      "\u001b[31m   WARNING: This is a development server. Do not use it in a production deployment.\u001b[0m\n",
      "\u001b[2m   Use a production WSGI server instead.\u001b[0m\n",
      " * Debug mode: off\n"
     ]
    },
    {
     "name": "stderr",
     "output_type": "stream",
     "text": [
      " * Running on http://127.0.0.1:8080/ (Press CTRL+C to quit)\n",
      "127.0.0.1 - - [10/Jul/2023 21:30:39] \"GET /person/name/father/mother/school/section HTTP/1.1\" 200 -\n"
     ]
    },
    {
     "name": "stdout",
     "output_type": "stream",
     "text": [
      "Name: name\n",
      "Father: father\n",
      "Mother: mother\n",
      "School: school\n",
      "Section: section\n"
     ]
    }
   ],
   "source": [
    "# import packages\n",
    "from flask import Flask\n",
    "\n",
    "# create app\n",
    "app = Flask(__name__)\n",
    "\n",
    "# start api development\n",
    "@app.route(\"/\")\n",
    "def hello() -> str:\n",
    "    return \"Hello World\"\n",
    "\n",
    "@app.route(\"/ishita\")\n",
    "def welcome():\n",
    "    return \"Hello Ishita, what is your order\"\n",
    "\n",
    "@app.route(\"/<name>\")\n",
    "def greeting(name):\n",
    "    return 'Hello,' + name + ' what is your order and where do you want to eat it and how do you want to pay'\n",
    "\n",
    "@app.route(\"/<name>/<city>\")\n",
    "def my_client(name, city):\n",
    "    return \"hello, sir \" + name + \"when did you come from \" + city\n",
    "\n",
    "@app.route('/sale/<transaction_id>')\n",
    "def get_sale(transaction_id = 0):\n",
    "    return 'The trasaction is ' + str(transaction_id)\n",
    "\n",
    "\n",
    "@app.route('/person/<name>/<father>/<mother>/<school>/<section>')\n",
    "def about_person(name, father, mother, school, section):\n",
    "    print('Name: ' + name)\n",
    "    print('Father: ' + father)\n",
    "    print('Mother: ' + mother)\n",
    "    print('School: ' + school)\n",
    "    print('Section: ' + section)\n",
    "    return ({\"name\": name, \"father\": father, \"mother\": mother, \"school\": school, \"section\": section})\n",
    "\n",
    "\n",
    "\n",
    "if __name__ == \"__main__\":\n",
    "    app.run(host=\"127.0.0.1\", port=8080, debug=False)"
   ]
  },
  {
   "cell_type": "code",
   "execution_count": null,
   "id": "56d53720",
   "metadata": {},
   "outputs": [],
   "source": []
  },
  {
   "cell_type": "code",
   "execution_count": null,
   "id": "f014a9b2",
   "metadata": {},
   "outputs": [],
   "source": []
  }
 ],
 "metadata": {
  "kernelspec": {
   "display_name": "Python 3 (ipykernel)",
   "language": "python",
   "name": "python3"
  },
  "language_info": {
   "codemirror_mode": {
    "name": "ipython",
    "version": 3
   },
   "file_extension": ".py",
   "mimetype": "text/x-python",
   "name": "python",
   "nbconvert_exporter": "python",
   "pygments_lexer": "ipython3",
   "version": "3.9.7"
  }
 },
 "nbformat": 4,
 "nbformat_minor": 5
}
